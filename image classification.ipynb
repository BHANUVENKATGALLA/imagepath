{
 "cells": [
  {
   "cell_type": "code",
   "execution_count": 1,
   "id": "5bdec32a",
   "metadata": {},
   "outputs": [
    {
     "name": "stdout",
     "output_type": "stream",
     "text": [
      "Requirement already satisfied: pillow in c:\\users\\hp\\anaconda3\\lib\\site-packages (9.4.0)\n",
      "Note: you may need to restart the kernel to use updated packages.\n"
     ]
    }
   ],
   "source": [
    "pip install pillow\n"
   ]
  },
  {
   "cell_type": "code",
   "execution_count": 1,
   "id": "21efff82",
   "metadata": {},
   "outputs": [],
   "source": [
    "from PIL import Image\n",
    "import numpy as np\n",
    "\n",
    "# Load the image from path\n",
    "image_path = 'C:\\\\image.png'\n",
    "image = Image.open(image_path)\n",
    "\n",
    "# Display the original image\n",
    "image.show()\n",
    "\n",
    "# Convert image to a numpy array\n",
    "image_array = np.array(image)\n",
    "\n",
    "# Scaling\n",
    "scaled_image = image.resize((120, 70))  # Specify the new dimensions\n",
    "scaled_image.show()\n",
    "\n",
    "# Rotation\n",
    "angle_degrees = 30  # Specify the rotation angle in degrees\n",
    "rotated_image = image.rotate(angle_degrees)\n",
    "rotated_image.show()\n"
   ]
  },
  {
   "cell_type": "code",
   "execution_count": null,
   "id": "6cff1c26",
   "metadata": {},
   "outputs": [],
   "source": []
  }
 ],
 "metadata": {
  "kernelspec": {
   "display_name": "Python 3 (ipykernel)",
   "language": "python",
   "name": "python3"
  },
  "language_info": {
   "codemirror_mode": {
    "name": "ipython",
    "version": 3
   },
   "file_extension": ".py",
   "mimetype": "text/x-python",
   "name": "python",
   "nbconvert_exporter": "python",
   "pygments_lexer": "ipython3",
   "version": "3.10.9"
  }
 },
 "nbformat": 4,
 "nbformat_minor": 5
}
